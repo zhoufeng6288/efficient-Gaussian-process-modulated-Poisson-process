{
 "cells": [
  {
   "cell_type": "code",
   "execution_count": 1,
   "metadata": {},
   "outputs": [],
   "source": [
    "import numpy as np\n",
    "import matplotlib.pyplot as plt\n",
    "from scipy import optimize\n",
    "from scipy.stats import expon\n",
    "from scipy.stats import uniform\n",
    "from scipy.stats import multivariate_normal\n",
    "from scipy.stats import norm\n",
    "from numpy.polynomial import legendre\n",
    "import pandas as pd"
   ]
  },
  {
   "cell_type": "code",
   "execution_count": 2,
   "metadata": {},
   "outputs": [],
   "source": [
    "def elliptical_sampling(f,Sigma,logL,points_inhomo,num): ## f is initial vector, Sigma is the covariance in the prior, logL is LogL, num is the number of samples you want\n",
    "    assert len(f)==len(np.diagonal(Sigma))\n",
    "    D=len(f)\n",
    "    i=0\n",
    "    samples=[]\n",
    "    \n",
    "    while(i<num):\n",
    "        v=multivariate_normal.rvs(np.zeros(D),Sigma)\n",
    "        u=uniform.rvs(0,1)\n",
    "        logy=logL(points_inhomo,xi,f,theta0,theta1,p,T)+np.log(u)\n",
    "        theta=uniform.rvs(0,2*np.pi)\n",
    "        theta_min=theta-2*np.pi\n",
    "        theta_max=theta\n",
    "        while(1):\n",
    "            f_new=f*np.cos(theta)+v*np.sin(theta)\n",
    "            if logL(points_inhomo,xi,f_new,theta0,theta1,p,T)>logy:\n",
    "                samples.append(f_new)\n",
    "                i+=1\n",
    "                f=f_new\n",
    "                break\n",
    "            else:\n",
    "                if theta<0:\n",
    "                    theta_min=theta\n",
    "                else:\n",
    "                    theta_max=theta\n",
    "                theta=uniform.rvs(theta_min,theta_max)\n",
    "    return np.array(samples)"
   ]
  },
  {
   "cell_type": "code",
   "execution_count": 3,
   "metadata": {},
   "outputs": [],
   "source": [
    "T=100"
   ]
  },
  {
   "cell_type": "markdown",
   "metadata": {},
   "source": [
    "## simulation"
   ]
  },
  {
   "cell_type": "code",
   "execution_count": 3,
   "metadata": {},
   "outputs": [],
   "source": [
    "def expo_quad_kernel(theta0,theta1,xn,xm):\n",
    "    return theta0*np.exp(-theta1/2*np.sum((xn - xm)**2))"
   ]
  },
  {
   "cell_type": "code",
   "execution_count": 4,
   "metadata": {},
   "outputs": [],
   "source": [
    "def GP_regression(xi,yi,theta0,theta1,noise_var,rang,num_points):\n",
    "    N=len(xi)\n",
    "    cov_K=np.zeros((N,N))\n",
    "    for i in range(N):\n",
    "        for j in range(i,N):\n",
    "            cov_K[i][j]=expo_quad_kernel(theta0,theta1,xi[i],xi[j])\n",
    "            cov_K[j][i]=cov_K[i][j]\n",
    "    min_eig=np.min(np.real(np.linalg.eigvals(cov_K))) # numerical float truncation error refine\n",
    "    while(min_eig<0):\n",
    "        cov_K += -10*min_eig*np.eye(cov_K.shape[0])\n",
    "        min_eig=np.min(np.real(np.linalg.eigvals(cov_K)))\n",
    "    \n",
    "    cov_K_noise=cov_K+np.eye(N)*noise_var\n",
    "    \n",
    "    x1=np.linspace(0,rang,num_points+1)      # prediction points, integer is to make it easy\n",
    "    M=len(x1)-1\n",
    "    mean=np.zeros((1,M))[0]\n",
    "    posterior_cov=np.zeros((M,M))\n",
    "    k_matrix=np.zeros((M,N))\n",
    "    k_matrix_pre=np.zeros((M,M))\n",
    "    for i in range(M):\n",
    "        for j in range(N):\n",
    "            k_matrix[i][j]=expo_quad_kernel(theta0,theta1,x1[i],xi[j])\n",
    "    k_C=np.dot(k_matrix,np.linalg.inv(cov_K_noise))\n",
    "    mean=np.dot(k_C,yi)\n",
    "    for i in range(M):\n",
    "        for j in range(i,M):\n",
    "            k_matrix_pre[i][j]=expo_quad_kernel(theta0,theta1,x1[i],x1[j])\n",
    "            k_matrix_pre[j][i]=k_matrix_pre[i][j]\n",
    "    posterior_cov=k_matrix_pre-np.dot(k_C,k_matrix.T)+np.eye(M)*noise_var\n",
    "    min_eig=np.min(np.real(np.linalg.eigvals(posterior_cov))) # numerical float truncation error refine\n",
    "    while(min_eig<0):\n",
    "        posterior_cov += -10*min_eig*np.eye(posterior_cov.shape[0])\n",
    "        min_eig=np.min(np.real(np.linalg.eigvals(posterior_cov)))\n",
    "    return x1[:num_points],mean, posterior_cov"
   ]
  },
  {
   "cell_type": "code",
   "execution_count": 559,
   "metadata": {},
   "outputs": [],
   "source": [
    "theta0=0.1"
   ]
  },
  {
   "cell_type": "code",
   "execution_count": 560,
   "metadata": {},
   "outputs": [],
   "source": [
    "theta1=0.01"
   ]
  },
  {
   "cell_type": "code",
   "execution_count": 561,
   "metadata": {},
   "outputs": [],
   "source": [
    "xi=np.linspace(T/10/2,T-T/10/2,10)   # 10 inducing points"
   ]
  },
  {
   "cell_type": "code",
   "execution_count": 562,
   "metadata": {},
   "outputs": [],
   "source": [
    "def u_generate(theta0,theta1,xi): # xi is inducing points, N(0,Sigma)\n",
    "    N=len(xi)\n",
    "    cov=np.zeros((N,N))\n",
    "    for i in range(N):\n",
    "        for j in range(i,N):\n",
    "            cov[i][j]=expo_quad_kernel(theta0,theta1,xi[i],xi[j])\n",
    "            cov[j][i]=cov[i][j]\n",
    "    return multivariate_normal([0]*N,cov).rvs(),np.array([0]*N),cov"
   ]
  },
  {
   "cell_type": "code",
   "execution_count": 563,
   "metadata": {},
   "outputs": [],
   "source": [
    "u,mean_p_u,cov_p_u=u_generate(theta0,theta1,xi)"
   ]
  },
  {
   "cell_type": "code",
   "execution_count": 11,
   "metadata": {},
   "outputs": [],
   "source": [
    "f=GP_regression(xi,u,theta0,theta1,0.0001,T,1000) # f is 1000-dimension vector on [0,T]"
   ]
  },
  {
   "cell_type": "code",
   "execution_count": 12,
   "metadata": {},
   "outputs": [],
   "source": [
    "f_1=multivariate_normal(f[1],f[2]).rvs() # f sample"
   ]
  },
  {
   "cell_type": "code",
   "execution_count": 13,
   "metadata": {},
   "outputs": [
    {
     "data": {
      "image/png": "[encoded data removed]",
      "text/plain": [
       "<Figure size 504x360 with 1 Axes>"
      ]
     },
     "metadata": {
      "needs_background": "light"
     },
     "output_type": "display_data"
    }
   ],
   "source": [
    "plt.figure(1,figsize=(7,5))\n",
    "axs=plt.subplot(111)\n",
    "axs.plot(xi,u,'ro')\n",
    "axs.plot(f[0],f[1])\n",
    "axs.fill_between(f[0],f[1]-np.sqrt(np.diagonal(f[2])),f[1]+np.sqrt(np.diagonal(f[2])),facecolor=(0.53,0.8,0.92))\n",
    "axs.plot(f[0],f_1)\n",
    "plt.show()"
   ]
  },
  {
   "cell_type": "code",
   "execution_count": 14,
   "metadata": {},
   "outputs": [],
   "source": [
    "lamda=np.exp(f_1)"
   ]
  },
  {
   "cell_type": "code",
   "execution_count": 15,
   "metadata": {},
   "outputs": [
    {
     "data": {
      "image/png": "[encoded data removed]",
      "text/plain": [
       "<Figure size 504x360 with 1 Axes>"
      ]
     },
     "metadata": {
      "needs_background": "light"
     },
     "output_type": "display_data"
    }
   ],
   "source": [
    "plt.figure(1,figsize=(7,5))\n",
    "axs=plt.subplot(111)\n",
    "axs.plot(f[0],lamda)\n",
    "plt.show()"
   ]
  },
  {
   "cell_type": "code",
   "execution_count": 16,
   "metadata": {},
   "outputs": [],
   "source": [
    "def inhomo_simulation(measure,delta_t,measure_sup,T):\n",
    "    t=0\n",
    "    points_homo=[]\n",
    "    points_inhomo=[]\n",
    "    while(t<T):\n",
    "        points_homo.append(t)\n",
    "        r=expon.rvs(scale=1/measure_sup) #scale=1/lamda\n",
    "        t+=r\n",
    "        if t>=T: break\n",
    "        D=uniform.rvs(loc=0,scale=1)\n",
    "        if D*measure_sup<=measure[int(t/delta_t)]:\n",
    "            points_inhomo.append(t)\n",
    "    if points_inhomo[-1]>T:\n",
    "        del points_inhomo[-1]\n",
    "    del points_homo[0]\n",
    "    return points_inhomo"
   ]
  },
  {
   "cell_type": "code",
   "execution_count": 17,
   "metadata": {},
   "outputs": [],
   "source": [
    "points_inhomo=inhomo_simulation(lamda,0.1,max(lamda),T)"
   ]
  },
  {
   "cell_type": "code",
   "execution_count": 18,
   "metadata": {},
   "outputs": [
    {
     "data": {
      "text/plain": [
       "85"
      ]
     },
     "execution_count": 18,
     "metadata": {},
     "output_type": "execute_result"
    }
   ],
   "source": [
    "len(points_inhomo)"
   ]
  },
  {
   "cell_type": "code",
   "execution_count": 19,
   "metadata": {},
   "outputs": [
    {
     "data": {
      "image/png": "[encoded data removed]",
      "text/plain": [
       "<Figure size 432x288 with 1 Axes>"
      ]
     },
     "metadata": {
      "needs_background": "light"
     },
     "output_type": "display_data"
    }
   ],
   "source": [
    "plt.figure(1)                # the first figure\n",
    "plt.subplot(111)             # the first subplot in the first figure\n",
    "plt.plot([0,T],[0,0],'r-',lw=1,alpha=0.6)\n",
    "plt.plot(points_inhomo,np.zeros(len(points_inhomo)),linestyle='None', marker='|', color='g', markersize=10)\n",
    "plt.plot(f[0],lamda)\n",
    "plt.show()"
   ]
  },
  {
   "cell_type": "code",
   "execution_count": null,
   "metadata": {},
   "outputs": [],
   "source": []
  },
  {
   "cell_type": "code",
   "execution_count": 526,
   "metadata": {},
   "outputs": [],
   "source": [
    "rawdata = pd.read_excel(\"./NYPD_Motor_Vehicle_Collisions.xlsx\")"
   ]
  },
  {
   "cell_type": "code",
   "execution_count": 527,
   "metadata": {},
   "outputs": [],
   "source": [
    "df=rawdata.loc[:,['DATE','TIME']]"
   ]
  },
  {
   "cell_type": "code",
   "execution_count": 528,
   "metadata": {},
   "outputs": [],
   "source": [
    "df['DATE']=pd.to_datetime(df['DATE'])"
   ]
  },
  {
   "cell_type": "code",
   "execution_count": 529,
   "metadata": {},
   "outputs": [],
   "source": [
    "training=[]"
   ]
  },
  {
   "cell_type": "code",
   "execution_count": 536,
   "metadata": {},
   "outputs": [],
   "source": [
    "start=np.datetime64('2017-10-09')       # June, July, August\n",
    "end=np.datetime64('2017-10-13')\n",
    "interval = pd.date_range(start, end)"
   ]
  },
  {
   "cell_type": "code",
   "execution_count": 537,
   "metadata": {
    "scrolled": true
   },
   "outputs": [
    {
     "name": "stderr",
     "output_type": "stream",
     "text": [
      "C:\\Users\\zho045\\AppData\\Local\\Continuum\\Anaconda3\\lib\\site-packages\\ipykernel_launcher.py:4: SettingWithCopyWarning: \n",
      "A value is trying to be set on a copy of a slice from a DataFrame.\n",
      "Try using .loc[row_indexer,col_indexer] = value instead\n",
      "\n",
      "See the caveats in the documentation: http://pandas.pydata.org/pandas-docs/stable/indexing.html#indexing-view-versus-copy\n",
      "  after removing the cwd from sys.path.\n",
      "C:\\Users\\zho045\\AppData\\Local\\Continuum\\Anaconda3\\lib\\site-packages\\ipykernel_launcher.py:6: SettingWithCopyWarning: \n",
      "A value is trying to be set on a copy of a slice from a DataFrame.\n",
      "Try using .loc[row_indexer,col_indexer] = value instead\n",
      "\n",
      "See the caveats in the documentation: http://pandas.pydata.org/pandas-docs/stable/indexing.html#indexing-view-versus-copy\n",
      "  \n"
     ]
    },
    {
     "ename": "ValueError",
     "evalue": "Cannot set a frame with no defined index and a value that cannot be converted to a Series",
     "output_type": "error",
     "traceback": [
      "\u001b[1;31m---------------------------------------------------------------------------\u001b[0m",
      "\u001b[1;31mValueError\u001b[0m                                Traceback (most recent call last)",
      "\u001b[1;32m~\\AppData\\Local\\Continuum\\Anaconda3\\lib\\site-packages\\pandas\\core\\frame.py\u001b[0m in \u001b[0;36m_ensure_valid_index\u001b[1;34m(self, value)\u001b[0m\n\u001b[0;32m   3172\u001b[0m             \u001b[1;32mtry\u001b[0m\u001b[1;33m:\u001b[0m\u001b[1;33m\u001b[0m\u001b[1;33m\u001b[0m\u001b[0m\n\u001b[1;32m-> 3173\u001b[1;33m                 \u001b[0mvalue\u001b[0m \u001b[1;33m=\u001b[0m \u001b[0mSeries\u001b[0m\u001b[1;33m(\u001b[0m\u001b[0mvalue\u001b[0m\u001b[1;33m)\u001b[0m\u001b[1;33m\u001b[0m\u001b[1;33m\u001b[0m\u001b[0m\n\u001b[0m\u001b[0;32m   3174\u001b[0m             \u001b[1;32mexcept\u001b[0m\u001b[1;33m:\u001b[0m\u001b[1;33m\u001b[0m\u001b[1;33m\u001b[0m\u001b[0m\n",
      "\u001b[1;32m~\\AppData\\Local\\Continuum\\Anaconda3\\lib\\site-packages\\pandas\\core\\series.py\u001b[0m in \u001b[0;36m__init__\u001b[1;34m(self, data, index, dtype, name, copy, fastpath)\u001b[0m\n\u001b[0;32m    276\u001b[0m \u001b[1;33m\u001b[0m\u001b[0m\n\u001b[1;32m--> 277\u001b[1;33m                 \u001b[0mdata\u001b[0m \u001b[1;33m=\u001b[0m \u001b[0mSingleBlockManager\u001b[0m\u001b[1;33m(\u001b[0m\u001b[0mdata\u001b[0m\u001b[1;33m,\u001b[0m \u001b[0mindex\u001b[0m\u001b[1;33m,\u001b[0m \u001b[0mfastpath\u001b[0m\u001b[1;33m=\u001b[0m\u001b[1;32mTrue\u001b[0m\u001b[1;33m)\u001b[0m\u001b[1;33m\u001b[0m\u001b[1;33m\u001b[0m\u001b[0m\n\u001b[0m\u001b[0;32m    278\u001b[0m \u001b[1;33m\u001b[0m\u001b[0m\n",
      "\u001b[1;32m~\\AppData\\Local\\Continuum\\Anaconda3\\lib\\site-packages\\pandas\\core\\internals.py\u001b[0m in \u001b[0;36m__init__\u001b[1;34m(self, block, axis, do_integrity_check, fastpath)\u001b[0m\n\u001b[0;32m   4676\u001b[0m         \u001b[1;32mif\u001b[0m \u001b[1;32mnot\u001b[0m \u001b[0misinstance\u001b[0m\u001b[1;33m(\u001b[0m\u001b[0mblock\u001b[0m\u001b[1;33m,\u001b[0m \u001b[0mBlock\u001b[0m\u001b[1;33m)\u001b[0m\u001b[1;33m:\u001b[0m\u001b[1;33m\u001b[0m\u001b[1;33m\u001b[0m\u001b[0m\n\u001b[1;32m-> 4677\u001b[1;33m             \u001b[0mblock\u001b[0m \u001b[1;33m=\u001b[0m \u001b[0mmake_block\u001b[0m\u001b[1;33m(\u001b[0m\u001b[0mblock\u001b[0m\u001b[1;33m,\u001b[0m \u001b[0mplacement\u001b[0m\u001b[1;33m=\u001b[0m\u001b[0mslice\u001b[0m\u001b[1;33m(\u001b[0m\u001b[1;36m0\u001b[0m\u001b[1;33m,\u001b[0m \u001b[0mlen\u001b[0m\u001b[1;33m(\u001b[0m\u001b[0maxis\u001b[0m\u001b[1;33m)\u001b[0m\u001b[1;33m)\u001b[0m\u001b[1;33m,\u001b[0m \u001b[0mndim\u001b[0m\u001b[1;33m=\u001b[0m\u001b[1;36m1\u001b[0m\u001b[1;33m)\u001b[0m\u001b[1;33m\u001b[0m\u001b[1;33m\u001b[0m\u001b[0m\n\u001b[0m\u001b[0;32m   4678\u001b[0m \u001b[1;33m\u001b[0m\u001b[0m\n",
      "\u001b[1;32m~\\AppData\\Local\\Continuum\\Anaconda3\\lib\\site-packages\\pandas\\core\\internals.py\u001b[0m in \u001b[0;36mmake_block\u001b[1;34m(values, placement, klass, ndim, dtype, fastpath)\u001b[0m\n\u001b[0;32m   3204\u001b[0m \u001b[1;33m\u001b[0m\u001b[0m\n\u001b[1;32m-> 3205\u001b[1;33m     \u001b[1;32mreturn\u001b[0m \u001b[0mklass\u001b[0m\u001b[1;33m(\u001b[0m\u001b[0mvalues\u001b[0m\u001b[1;33m,\u001b[0m \u001b[0mndim\u001b[0m\u001b[1;33m=\u001b[0m\u001b[0mndim\u001b[0m\u001b[1;33m,\u001b[0m \u001b[0mplacement\u001b[0m\u001b[1;33m=\u001b[0m\u001b[0mplacement\u001b[0m\u001b[1;33m)\u001b[0m\u001b[1;33m\u001b[0m\u001b[1;33m\u001b[0m\u001b[0m\n\u001b[0m\u001b[0;32m   3206\u001b[0m \u001b[1;33m\u001b[0m\u001b[0m\n",
      "\u001b[1;32m~\\AppData\\Local\\Continuum\\Anaconda3\\lib\\site-packages\\pandas\\core\\internals.py\u001b[0m in \u001b[0;36m__init__\u001b[1;34m(self, values, placement, ndim)\u001b[0m\n\u001b[0;32m   2302\u001b[0m         super(ObjectBlock, self).__init__(values, ndim=ndim,\n\u001b[1;32m-> 2303\u001b[1;33m                                           placement=placement)\n\u001b[0m\u001b[0;32m   2304\u001b[0m \u001b[1;33m\u001b[0m\u001b[0m\n",
      "\u001b[1;32m~\\AppData\\Local\\Continuum\\Anaconda3\\lib\\site-packages\\pandas\\core\\internals.py\u001b[0m in \u001b[0;36m__init__\u001b[1;34m(self, values, placement, ndim)\u001b[0m\n\u001b[0;32m    124\u001b[0m                 \u001b[1;34m'Wrong number of items passed {val}, placement implies '\u001b[0m\u001b[1;33m\u001b[0m\u001b[1;33m\u001b[0m\u001b[0m\n\u001b[1;32m--> 125\u001b[1;33m                 '{mgr}'.format(val=len(self.values), mgr=len(self.mgr_locs)))\n\u001b[0m\u001b[0;32m    126\u001b[0m \u001b[1;33m\u001b[0m\u001b[0m\n",
      "\u001b[1;31mValueError\u001b[0m: Wrong number of items passed 2, placement implies 0",
      "\nDuring handling of the above exception, another exception occurred:\n",
      "\u001b[1;31mValueError\u001b[0m                                Traceback (most recent call last)",
      "\u001b[1;32m<ipython-input-537-701ad5dd619c>\u001b[0m in \u001b[0;36m<module>\u001b[1;34m()\u001b[0m\n\u001b[0;32m      2\u001b[0m     \u001b[0mdf_1\u001b[0m\u001b[1;33m=\u001b[0m\u001b[0mdf\u001b[0m\u001b[1;33m[\u001b[0m\u001b[0mdf\u001b[0m\u001b[1;33m[\u001b[0m\u001b[1;34m'DATE'\u001b[0m\u001b[1;33m]\u001b[0m\u001b[1;33m==\u001b[0m\u001b[0mi\u001b[0m\u001b[1;33m]\u001b[0m\u001b[1;33m\u001b[0m\u001b[1;33m\u001b[0m\u001b[0m\n\u001b[0;32m      3\u001b[0m \u001b[1;33m\u001b[0m\u001b[0m\n\u001b[1;32m----> 4\u001b[1;33m     \u001b[0mdf_1\u001b[0m\u001b[1;33m[\u001b[0m\u001b[1;34m'ts'\u001b[0m\u001b[1;33m]\u001b[0m\u001b[1;33m=\u001b[0m\u001b[0mdf_1\u001b[0m\u001b[1;33m.\u001b[0m\u001b[0mapply\u001b[0m\u001b[1;33m(\u001b[0m\u001b[1;32mlambda\u001b[0m \u001b[0mr\u001b[0m \u001b[1;33m:\u001b[0m \u001b[0mpd\u001b[0m\u001b[1;33m.\u001b[0m\u001b[0mdatetime\u001b[0m\u001b[1;33m.\u001b[0m\u001b[0mcombine\u001b[0m\u001b[1;33m(\u001b[0m\u001b[0mr\u001b[0m\u001b[1;33m[\u001b[0m\u001b[1;34m'DATE'\u001b[0m\u001b[1;33m]\u001b[0m\u001b[1;33m,\u001b[0m\u001b[0mr\u001b[0m\u001b[1;33m[\u001b[0m\u001b[1;34m'TIME'\u001b[0m\u001b[1;33m]\u001b[0m\u001b[1;33m)\u001b[0m\u001b[1;33m,\u001b[0m\u001b[1;36m1\u001b[0m\u001b[1;33m)\u001b[0m\u001b[1;33m\u001b[0m\u001b[1;33m\u001b[0m\u001b[0m\n\u001b[0m\u001b[0;32m      5\u001b[0m \u001b[1;33m\u001b[0m\u001b[0m\n\u001b[0;32m      6\u001b[0m     \u001b[0mdf_1\u001b[0m\u001b[1;33m[\u001b[0m\u001b[1;34m'ts'\u001b[0m\u001b[1;33m]\u001b[0m\u001b[1;33m=\u001b[0m\u001b[0mdf_1\u001b[0m\u001b[1;33m[\u001b[0m\u001b[1;34m'ts'\u001b[0m\u001b[1;33m]\u001b[0m\u001b[1;33m.\u001b[0m\u001b[0mastype\u001b[0m\u001b[1;33m(\u001b[0m\u001b[0mnp\u001b[0m\u001b[1;33m.\u001b[0m\u001b[0mint64\u001b[0m\u001b[1;33m)\u001b[0m\u001b[1;33m\u001b[0m\u001b[1;33m\u001b[0m\u001b[0m\n",
      "\u001b[1;32m~\\AppData\\Local\\Continuum\\Anaconda3\\lib\\site-packages\\pandas\\core\\frame.py\u001b[0m in \u001b[0;36m__setitem__\u001b[1;34m(self, key, value)\u001b[0m\n\u001b[0;32m   3117\u001b[0m         \u001b[1;32melse\u001b[0m\u001b[1;33m:\u001b[0m\u001b[1;33m\u001b[0m\u001b[1;33m\u001b[0m\u001b[0m\n\u001b[0;32m   3118\u001b[0m             \u001b[1;31m# set column\u001b[0m\u001b[1;33m\u001b[0m\u001b[1;33m\u001b[0m\u001b[1;33m\u001b[0m\u001b[0m\n\u001b[1;32m-> 3119\u001b[1;33m             \u001b[0mself\u001b[0m\u001b[1;33m.\u001b[0m\u001b[0m_set_item\u001b[0m\u001b[1;33m(\u001b[0m\u001b[0mkey\u001b[0m\u001b[1;33m,\u001b[0m \u001b[0mvalue\u001b[0m\u001b[1;33m)\u001b[0m\u001b[1;33m\u001b[0m\u001b[1;33m\u001b[0m\u001b[0m\n\u001b[0m\u001b[0;32m   3120\u001b[0m \u001b[1;33m\u001b[0m\u001b[0m\n\u001b[0;32m   3121\u001b[0m     \u001b[1;32mdef\u001b[0m \u001b[0m_setitem_slice\u001b[0m\u001b[1;33m(\u001b[0m\u001b[0mself\u001b[0m\u001b[1;33m,\u001b[0m \u001b[0mkey\u001b[0m\u001b[1;33m,\u001b[0m \u001b[0mvalue\u001b[0m\u001b[1;33m)\u001b[0m\u001b[1;33m:\u001b[0m\u001b[1;33m\u001b[0m\u001b[1;33m\u001b[0m\u001b[0m\n",
      "\u001b[1;32m~\\AppData\\Local\\Continuum\\Anaconda3\\lib\\site-packages\\pandas\\core\\frame.py\u001b[0m in \u001b[0;36m_set_item\u001b[1;34m(self, key, value)\u001b[0m\n\u001b[0;32m   3191\u001b[0m         \"\"\"\n\u001b[0;32m   3192\u001b[0m \u001b[1;33m\u001b[0m\u001b[0m\n\u001b[1;32m-> 3193\u001b[1;33m         \u001b[0mself\u001b[0m\u001b[1;33m.\u001b[0m\u001b[0m_ensure_valid_index\u001b[0m\u001b[1;33m(\u001b[0m\u001b[0mvalue\u001b[0m\u001b[1;33m)\u001b[0m\u001b[1;33m\u001b[0m\u001b[1;33m\u001b[0m\u001b[0m\n\u001b[0m\u001b[0;32m   3194\u001b[0m         \u001b[0mvalue\u001b[0m \u001b[1;33m=\u001b[0m \u001b[0mself\u001b[0m\u001b[1;33m.\u001b[0m\u001b[0m_sanitize_column\u001b[0m\u001b[1;33m(\u001b[0m\u001b[0mkey\u001b[0m\u001b[1;33m,\u001b[0m \u001b[0mvalue\u001b[0m\u001b[1;33m)\u001b[0m\u001b[1;33m\u001b[0m\u001b[1;33m\u001b[0m\u001b[0m\n\u001b[0;32m   3195\u001b[0m         \u001b[0mNDFrame\u001b[0m\u001b[1;33m.\u001b[0m\u001b[0m_set_item\u001b[0m\u001b[1;33m(\u001b[0m\u001b[0mself\u001b[0m\u001b[1;33m,\u001b[0m \u001b[0mkey\u001b[0m\u001b[1;33m,\u001b[0m \u001b[0mvalue\u001b[0m\u001b[1;33m)\u001b[0m\u001b[1;33m\u001b[0m\u001b[1;33m\u001b[0m\u001b[0m\n",
      "\u001b[1;32m~\\AppData\\Local\\Continuum\\Anaconda3\\lib\\site-packages\\pandas\\core\\frame.py\u001b[0m in \u001b[0;36m_ensure_valid_index\u001b[1;34m(self, value)\u001b[0m\n\u001b[0;32m   3173\u001b[0m                 \u001b[0mvalue\u001b[0m \u001b[1;33m=\u001b[0m \u001b[0mSeries\u001b[0m\u001b[1;33m(\u001b[0m\u001b[0mvalue\u001b[0m\u001b[1;33m)\u001b[0m\u001b[1;33m\u001b[0m\u001b[1;33m\u001b[0m\u001b[0m\n\u001b[0;32m   3174\u001b[0m             \u001b[1;32mexcept\u001b[0m\u001b[1;33m:\u001b[0m\u001b[1;33m\u001b[0m\u001b[1;33m\u001b[0m\u001b[0m\n\u001b[1;32m-> 3175\u001b[1;33m                 raise ValueError('Cannot set a frame with no defined index '\n\u001b[0m\u001b[0;32m   3176\u001b[0m                                  \u001b[1;34m'and a value that cannot be converted to a '\u001b[0m\u001b[1;33m\u001b[0m\u001b[1;33m\u001b[0m\u001b[0m\n\u001b[0;32m   3177\u001b[0m                                  'Series')\n",
      "\u001b[1;31mValueError\u001b[0m: Cannot set a frame with no defined index and a value that cannot be converted to a Series"
     ]
    }
   ],
   "source": [
    "for i in interval:\n",
    "    df_1=df[df['DATE']==i]\n",
    "\n",
    "    df_1['ts']=df_1.apply(lambda r : pd.datetime.combine(r['DATE'],r['TIME']),1)\n",
    "\n",
    "    df_1['ts']=df_1['ts'].astype(np.int64)\n",
    "\n",
    "    df_1=df_1.sort_values(['ts'])\n",
    "\n",
    "    training_data=df_1['ts'].values/1000000000  # convert to second\n",
    "\n",
    "    training_data=training_data-training_data[0]+1\n",
    "\n",
    "    training_data=training_data/60      # convert to minite, T=1440\n",
    "    training_data=training_data/10      # convert to 10 minite, T=144\n",
    "    \n",
    "    for i in range(20):                 # delete points at 0\n",
    "        if training_data[0]==training_data[1]:\n",
    "            training_data=np.delete(training_data,1)\n",
    "            \n",
    "    for i in range(1,len(training_data)):  # divide points at same time\n",
    "        for j in range(i):\n",
    "            if training_data[j]==training_data[i]:\n",
    "                training_data[i]+=0.01\n",
    "\n",
    "    training.append(list(training_data))"
   ]
  },
  {
   "cell_type": "code",
   "execution_count": 539,
   "metadata": {},
   "outputs": [
    {
     "data": {
      "text/plain": [
       "17"
      ]
     },
     "execution_count": 539,
     "metadata": {},
     "output_type": "execute_result"
    }
   ],
   "source": [
    "len(training)"
   ]
  },
  {
   "cell_type": "code",
   "execution_count": 556,
   "metadata": {},
   "outputs": [],
   "source": [
    "del training[16][:10]"
   ]
  },
  {
   "cell_type": "code",
   "execution_count": 557,
   "metadata": {},
   "outputs": [
    {
     "data": {
      "text/plain": [
       "512"
      ]
     },
     "execution_count": 557,
     "metadata": {},
     "output_type": "execute_result"
    }
   ],
   "source": [
    "len(training[3])"
   ]
  },
  {
   "cell_type": "code",
   "execution_count": 558,
   "metadata": {},
   "outputs": [],
   "source": [
    "T=144"
   ]
  },
  {
   "cell_type": "markdown",
   "metadata": {},
   "source": [
    "## MCMC inference"
   ]
  },
  {
   "cell_type": "code",
   "execution_count": 564,
   "metadata": {},
   "outputs": [],
   "source": [
    "cov_p_u_inv=np.linalg.inv(cov_p_u)"
   ]
  },
  {
   "cell_type": "code",
   "execution_count": 565,
   "metadata": {},
   "outputs": [],
   "source": [
    "def mean(s,xi,yi,cov_p_u_inv,theta0,theta1): ## knowing inducing points to predict mean at s (single point)\n",
    "    N=len(xi)\n",
    "    k_vec=np.array([])\n",
    "    for i in range(N):\n",
    "        k_vec=np.append(k_vec,expo_quad_kernel(theta0,theta1,s,xi[i]))\n",
    "    mean=np.matmul(np.matmul(k_vec,cov_p_u_inv),yi)\n",
    "    return mean"
   ]
  },
  {
   "cell_type": "code",
   "execution_count": 566,
   "metadata": {},
   "outputs": [],
   "source": [
    "def sigma(s1,s2,xi,cov_p_u_inv,theta0,theta1): ## knowing inducing points to predict variance(cov) at s1, s2\n",
    "    N=len(xi)\n",
    "    if s1==s2:\n",
    "        sigma_s1_s2=theta0\n",
    "        k_s1=np.array([])\n",
    "        for i in range(N):\n",
    "            k_s1=np.append(k_s1,expo_quad_kernel(theta0,theta1,s1,xi[i]))\n",
    "        k_s2=k_s1\n",
    "    else:\n",
    "        sigma_s1_s2=expo_quad_kernel(theta0,theta1,s1,s2)\n",
    "        k_s1=np.array([])\n",
    "        k_s2=np.array([])\n",
    "        for i in range(N):\n",
    "            k_s1=np.append(k_s1,expo_quad_kernel(theta0,theta1,s1,xi[i]))\n",
    "            k_s2=np.append(k_s2,expo_quad_kernel(theta0,theta1,s2,xi[i]))\n",
    "    var=sigma_s1_s2-np.matmul(np.matmul(k_s1,cov_p_u_inv),k_s2.T)\n",
    "    return var"
   ]
  },
  {
   "cell_type": "code",
   "execution_count": 567,
   "metadata": {},
   "outputs": [],
   "source": [
    "def gq_points_weights(a,b,Q):\n",
    "    p,w=np.polynomial.legendre.leggauss(Q)\n",
    "    c = np.array([0]*Q + [1])\n",
    "    p_new=(a+b+(b-a)*p)/2\n",
    "    w_new=(b-a)/(legendre.legval(p, legendre.legder(c))**2*(1-p**2))\n",
    "    return p_new,w_new"
   ]
  },
  {
   "cell_type": "code",
   "execution_count": 568,
   "metadata": {},
   "outputs": [],
   "source": [
    "def logL(points_inhomo,xi,yi,theta0,theta1,p,T):\n",
    "    p_gq,w_gq=gq_points_weights(0,T,p)\n",
    "    m_gq=np.zeros(p)\n",
    "    sigma_gq=np.zeros((p,p))\n",
    "    for i in range(p):\n",
    "        m_gq[i]=mean(p_gq[i],xi,yi,cov_p_u_inv,theta0,theta1)\n",
    "    for i in range(p):\n",
    "        for j in range(i,p):\n",
    "            sigma_gq[i][j]=sigma(p_gq[i],p_gq[j],xi,cov_p_u_inv,theta0,theta1)\n",
    "            sigma_gq[j][i]=sigma_gq[i][j]\n",
    "    mu_I=np.exp(m_gq+0.5*np.diagonal(sigma_gq)).dot(w_gq)\n",
    "    sigma_I=0\n",
    "    for i in range(p):\n",
    "        for j in range(p):\n",
    "            sigma_I+=w_gq[i]*w_gq[j]*np.exp(m_gq[i]+m_gq[j]+sigma_gq[i][j]+0.5*sigma_gq[i][i]+0.5*sigma_gq[j][j])\n",
    "    sigma_I-=mu_I**2\n",
    "    assert sigma_I>0\n",
    "    alpha_I=mu_I**2/sigma_I\n",
    "    beta_I=sigma_I/mu_I\n",
    "    \n",
    "    N=len(points_inhomo)\n",
    "    M=np.zeros(N)\n",
    "    Sigma_diag=np.zeros(N)\n",
    "    for i in range(N):\n",
    "        M[i]=mean(points_inhomo[i],xi,yi,cov_p_u_inv,theta0,theta1)\n",
    "        Sigma_diag[i]=sigma(points_inhomo[i],points_inhomo[i],xi,cov_p_u_inv,theta0,theta1)\n",
    "    logl=sum(M)+0.5*sum(Sigma_diag)-alpha_I*np.log(1+beta_I)\n",
    "    return logl"
   ]
  },
  {
   "cell_type": "code",
   "execution_count": 569,
   "metadata": {},
   "outputs": [],
   "source": [
    "p=20"
   ]
  },
  {
   "cell_type": "code",
   "execution_count": 27,
   "metadata": {},
   "outputs": [],
   "source": [
    "sample=elliptical_sampling(np.zeros(len(xi)),cov_p_u,logL,points_inhomo,500)"
   ]
  },
  {
   "cell_type": "code",
   "execution_count": 30,
   "metadata": {},
   "outputs": [],
   "source": [
    "yy=[]\n",
    "for i in range(100):\n",
    "    xxx,yyy=GP_predict(xi,sample[-1-i],theta0,theta1,0,T,100)\n",
    "    yy.append(yyy)\n",
    "yy=np.exp(np.average(np.array(yy),axis=0))"
   ]
  },
  {
   "cell_type": "code",
   "execution_count": 40,
   "metadata": {},
   "outputs": [
    {
     "data": {
      "text/plain": [
       "99.83206624987463"
      ]
     },
     "execution_count": 40,
     "metadata": {},
     "output_type": "execute_result"
    }
   ],
   "source": [
    "sum(yy*1)"
   ]
  },
  {
   "cell_type": "code",
   "execution_count": 41,
   "metadata": {},
   "outputs": [
    {
     "data": {
      "text/plain": [
       "85"
      ]
     },
     "execution_count": 41,
     "metadata": {},
     "output_type": "execute_result"
    }
   ],
   "source": [
    "len(points_inhomo)"
   ]
  },
  {
   "cell_type": "code",
   "execution_count": 39,
   "metadata": {},
   "outputs": [
    {
     "data": {
      "image/png": "[encoded data removed]",
      "text/plain": [
       "<Figure size 432x288 with 1 Axes>"
      ]
     },
     "metadata": {
      "needs_background": "light"
     },
     "output_type": "display_data"
    }
   ],
   "source": [
    "plt.figure(1)                # the first figure\n",
    "plt.subplot(111)             # the first subplot in the first figure\n",
    "plt.plot([0,T],[0,0],'r-',lw=1,alpha=0.6)\n",
    "plt.plot(points_inhomo,np.zeros(len(points_inhomo)),linestyle='None', marker='|', color='g', markersize=10)\n",
    "plt.plot(f[0],lamda,label='ground truth')\n",
    "plt.plot(xxx,yy,label='learned result')\n",
    "plt.legend()\n",
    "plt.show()"
   ]
  },
  {
   "cell_type": "code",
   "execution_count": null,
   "metadata": {},
   "outputs": [],
   "source": []
  },
  {
   "cell_type": "code",
   "execution_count": 43,
   "metadata": {},
   "outputs": [],
   "source": []
  },
  {
   "cell_type": "code",
   "execution_count": 570,
   "metadata": {},
   "outputs": [],
   "source": [
    "def GP_predict(xi,yi,theta0,theta1,noise_var,rang,num_points):\n",
    "    N=len(xi)\n",
    "    cov_K=np.zeros((N,N))\n",
    "    for i in range(N):\n",
    "        for j in range(i,N):\n",
    "            cov_K[i][j]=expo_quad_kernel(theta0,theta1,xi[i],xi[j])\n",
    "            cov_K[j][i]=cov_K[i][j]\n",
    "    min_eig=np.min(np.real(np.linalg.eigvals(cov_K))) # numerical float truncation error refine\n",
    "    while(min_eig<0):\n",
    "        cov_K += -10*min_eig*np.eye(cov_K.shape[0])\n",
    "        min_eig=np.min(np.real(np.linalg.eigvals(cov_K)))\n",
    "    \n",
    "    cov_K_noise=cov_K+np.eye(N)*noise_var\n",
    "    \n",
    "    x1=np.linspace(0,rang,num_points+1)      # prediction points, integer is to make it easy\n",
    "    M=len(x1)-1\n",
    "    mean=np.zeros((1,M))[0]\n",
    "    posterior_cov=np.zeros((M,M))\n",
    "    k_matrix=np.zeros((M,N))\n",
    "    k_matrix_pre=np.zeros((M,M))\n",
    "    for i in range(M):\n",
    "        for j in range(N):\n",
    "            k_matrix[i][j]=expo_quad_kernel(theta0,theta1,x1[i],xi[j])\n",
    "    k_C=np.dot(k_matrix,np.linalg.inv(cov_K_noise))\n",
    "    mean=np.dot(k_C,yi)\n",
    "    for i in range(M):\n",
    "        for j in range(i,M):\n",
    "            k_matrix_pre[i][j]=expo_quad_kernel(theta0,theta1,x1[i],x1[j])\n",
    "            k_matrix_pre[j][i]=k_matrix_pre[i][j]\n",
    "    posterior_cov=k_matrix_pre-np.dot(k_C,k_matrix.T)+np.eye(M)*noise_var\n",
    "    min_eig=np.min(np.real(np.linalg.eigvals(posterior_cov))) # numerical float truncation error refine\n",
    "    while(min_eig<0):\n",
    "        posterior_cov += -10*min_eig*np.eye(posterior_cov.shape[0])\n",
    "        min_eig=np.min(np.real(np.linalg.eigvals(posterior_cov)))\n",
    "    return x1[:num_points], mean+np.diagonal(posterior_cov)"
   ]
  },
  {
   "cell_type": "code",
   "execution_count": 595,
   "metadata": {},
   "outputs": [],
   "source": [
    "samples=[]\n",
    "for i in range(12):\n",
    "    sample=elliptical_sampling(np.zeros(len(xi)),cov_p_u,logL,training[i],300)\n",
    "    samples.append(sample)"
   ]
  },
  {
   "cell_type": "code",
   "execution_count": 596,
   "metadata": {},
   "outputs": [],
   "source": [
    "y=[]\n",
    "for j in range(len(samples)):\n",
    "    yy=[]\n",
    "    for i in range(100):\n",
    "        xxx,yyy=GP_predict(xi,samples[j][-1-i],theta0,theta1,0,T,100)\n",
    "        yy.append(yyy)\n",
    "    yy=np.exp(np.average(np.array(yy),axis=0))\n",
    "    y.append(yy)"
   ]
  },
  {
   "cell_type": "code",
   "execution_count": 597,
   "metadata": {},
   "outputs": [],
   "source": [
    "y_ave=np.average(y,axis=0)"
   ]
  },
  {
   "cell_type": "code",
   "execution_count": 598,
   "metadata": {},
   "outputs": [
    {
     "data": {
      "text/plain": [
       "526.1744936241382"
      ]
     },
     "execution_count": 598,
     "metadata": {},
     "output_type": "execute_result"
    }
   ],
   "source": [
    "sum(y_ave*(T/len(y_ave)))"
   ]
  },
  {
   "cell_type": "code",
   "execution_count": 599,
   "metadata": {},
   "outputs": [
    {
     "data": {
      "image/png": "[encoded data removed]",
      "text/plain": [
       "<Figure size 432x288 with 1 Axes>"
      ]
     },
     "metadata": {
      "needs_background": "light"
     },
     "output_type": "display_data"
    }
   ],
   "source": [
    "plt.figure(1)                # the first figure\n",
    "plt.subplot(111)             # the first subplot in the first figure\n",
    "plt.plot([0,T],[0,0],'r-',lw=1,alpha=0.6)\n",
    "plt.plot(training[0],np.zeros(len(training[0])),linestyle='None', marker='|', color='g', markersize=10)\n",
    "# plt.plot(f[0],lamda,label='ground truth')\n",
    "plt.plot(xxx,y_ave,label='learned result')\n",
    "plt.legend()\n",
    "plt.show()"
   ]
  },
  {
   "cell_type": "code",
   "execution_count": 600,
   "metadata": {},
   "outputs": [],
   "source": [
    "def loglikelihood(lamda,points_poisson,T):  ## discrete lamda\n",
    "    N=len(lamda)\n",
    "    M=len(points_poisson)\n",
    "    delta_t=T/N\n",
    "    logL=0\n",
    "    for i in range(M):\n",
    "        logL+=np.log(lamda[int(points_poisson[i]/delta_t)])\n",
    "    logL-=sum(lamda*delta_t)\n",
    "    return logL"
   ]
  },
  {
   "cell_type": "markdown",
   "metadata": {},
   "source": [
    "## 1 training sequence"
   ]
  },
  {
   "cell_type": "code",
   "execution_count": 577,
   "metadata": {},
   "outputs": [],
   "source": [
    "logL_test=[]\n",
    "for i in range(12,17):\n",
    "    logL_test.append(loglikelihood(y_ave,training[i],T))"
   ]
  },
  {
   "cell_type": "code",
   "execution_count": 578,
   "metadata": {
    "scrolled": true
   },
   "outputs": [
    {
     "data": {
      "text/plain": [
       "338.1254311462561"
      ]
     },
     "execution_count": 578,
     "metadata": {},
     "output_type": "execute_result"
    }
   ],
   "source": [
    "np.average(logL_test)"
   ]
  },
  {
   "cell_type": "markdown",
   "metadata": {},
   "source": [
    "## 5 training sequence"
   ]
  },
  {
   "cell_type": "code",
   "execution_count": 585,
   "metadata": {},
   "outputs": [],
   "source": [
    "logL_test=[]\n",
    "for i in range(12,17):\n",
    "    logL_test.append(loglikelihood(y_ave,training[i],T))"
   ]
  },
  {
   "cell_type": "code",
   "execution_count": 586,
   "metadata": {},
   "outputs": [
    {
     "data": {
      "text/plain": [
       "368.360927071888"
      ]
     },
     "execution_count": 586,
     "metadata": {},
     "output_type": "execute_result"
    }
   ],
   "source": [
    "np.average(logL_test)"
   ]
  },
  {
   "cell_type": "markdown",
   "metadata": {},
   "source": [
    "## 9 training sequence"
   ]
  },
  {
   "cell_type": "code",
   "execution_count": 593,
   "metadata": {},
   "outputs": [],
   "source": [
    "logL_test=[]\n",
    "for i in range(12,17):\n",
    "    logL_test.append(loglikelihood(y_ave,training[i],T))"
   ]
  },
  {
   "cell_type": "code",
   "execution_count": 594,
   "metadata": {},
   "outputs": [
    {
     "data": {
      "text/plain": [
       "375.3386427787671"
      ]
     },
     "execution_count": 594,
     "metadata": {},
     "output_type": "execute_result"
    }
   ],
   "source": [
    "np.average(logL_test)"
   ]
  },
  {
   "cell_type": "markdown",
   "metadata": {},
   "source": [
    "## 12 training sequence"
   ]
  },
  {
   "cell_type": "code",
   "execution_count": 601,
   "metadata": {},
   "outputs": [],
   "source": [
    "logL_test=[]\n",
    "for i in range(12,17):\n",
    "    logL_test.append(loglikelihood(y_ave,training[i],T))"
   ]
  },
  {
   "cell_type": "code",
   "execution_count": 602,
   "metadata": {},
   "outputs": [
    {
     "data": {
      "text/plain": [
       "376.13760371075625"
      ]
     },
     "execution_count": 602,
     "metadata": {},
     "output_type": "execute_result"
    }
   ],
   "source": [
    "np.average(logL_test)"
   ]
  },
  {
   "cell_type": "code",
   "execution_count": 603,
   "metadata": {},
   "outputs": [
    {
     "data": {
      "text/plain": [
       "array([0.89007704, 0.86294998, 0.83826827, 0.8171089 , 0.80020691,\n",
       "       0.78787569, 0.78000316, 0.7761269 , 0.77557848, 0.77767234,\n",
       "       0.78189973, 0.78807955, 0.79642678, 0.80752518, 0.82222584,\n",
       "       0.84151925, 0.86643684, 0.89802693, 0.93742781, 0.98603441,\n",
       "       1.04573031, 1.11913704, 1.20982078, 1.3223926 , 1.46243797,\n",
       "       1.63620888, 1.85001169, 2.10924827, 2.41714858, 2.77338049,\n",
       "       3.1728864 , 3.60536291, 4.05566305, 4.50508272, 4.93317875,\n",
       "       5.3196772 , 5.64621632, 5.89794012, 6.06504529, 6.14418573,\n",
       "       6.13931766, 6.06144061, 5.92695459, 5.75491248, 5.56395073,\n",
       "       5.36980902, 5.18405529, 5.01413447, 4.86442466, 4.73775664,\n",
       "       4.63683536, 4.56514212, 4.52712615, 4.52773127, 4.57146776,\n",
       "       4.66129597, 4.79757144, 4.97727786, 5.19377021, 5.43721202,\n",
       "       5.6957298 , 5.95701319, 6.20980313, 6.44466007, 6.65371336,\n",
       "       6.82963456, 6.96454668, 7.04970224, 7.07643963, 7.03827709,\n",
       "       6.93331891, 6.76581403, 6.54598803, 6.28807104, 6.0072966 ,\n",
       "       5.71704152, 5.42705608, 5.14313928, 4.86801959, 4.60284212,\n",
       "       4.34858567, 4.1068929 , 3.88010835, 3.67066397, 3.48018822,\n",
       "       3.30875998, 3.15460402, 3.01432902, 2.88362798, 2.75822936,\n",
       "       2.63481475, 2.51162455, 2.38857962, 2.26692819, 2.14860179,\n",
       "       2.03554158, 1.92921157, 1.83039462, 1.73924578, 1.65550364])"
      ]
     },
     "execution_count": 603,
     "metadata": {},
     "output_type": "execute_result"
    }
   ],
   "source": [
    "y_ave"
   ]
  },
  {
   "cell_type": "code",
   "execution_count": null,
   "metadata": {},
   "outputs": [],
   "source": []
  },
  {
   "cell_type": "code",
   "execution_count": null,
   "metadata": {},
   "outputs": [],
   "source": []
  },
  {
   "cell_type": "code",
   "execution_count": null,
   "metadata": {},
   "outputs": [],
   "source": []
  },
  {
   "cell_type": "code",
   "execution_count": null,
   "metadata": {},
   "outputs": [],
   "source": []
  },
  {
   "cell_type": "code",
   "execution_count": 607,
   "metadata": {},
   "outputs": [],
   "source": [
    "rawdata = pd.read_csv(\"./2016_Green_Taxi_Trip_Data.csv\")"
   ]
  },
  {
   "cell_type": "code",
   "execution_count": 608,
   "metadata": {},
   "outputs": [],
   "source": [
    "date_series=['01/02/2016','01/03/2016','01/04/2016','01/05/2016','01/06/2016','01/07/2016','01/08/2016','01/09/2016',\n",
    "            '01/10/2016','01/11/2016','01/12/2016','01/13/2016','01/14/2016','01/15/2016','01/16/2016',\n",
    "            '01/17/2016','01/18/2016','01/19/2016','01/20/2016','01/21/2016','01/22/2016','01/23/2016',\n",
    "            '01/24/2016','01/25/2016','01/26/2016','01/27/2016','01/28/2016','01/29/2016','01/30/2016','01/31/2016','02/01/2016']"
   ]
  },
  {
   "cell_type": "code",
   "execution_count": 609,
   "metadata": {},
   "outputs": [],
   "source": [
    "def training_data_extraction(N):\n",
    "    training_data=[]\n",
    "    for i in range(N):\n",
    "        df_1=rawdata[(rawdata['lpep_pickup_datetime']<date_series[i+1]) & (rawdata['lpep_pickup_datetime']>date_series[i])]\n",
    "        \n",
    "        origin=pd.to_datetime(date_series[i]).value/10**9/600 # convert to 10 minute\n",
    "\n",
    "        df_1=df_1[df_1['Trip_distance']>15]\n",
    "\n",
    "        df_1=df_1[['lpep_pickup_datetime']]\n",
    "\n",
    "        df_1['lpep_pickup_datetime']=pd.to_datetime(df_1['lpep_pickup_datetime'])\n",
    "\n",
    "        df_1['lpep_pickup_datetime']=df_1['lpep_pickup_datetime'].astype(np.int64)\n",
    "\n",
    "        df_1=df_1.sort_values(['lpep_pickup_datetime'])\n",
    "        training_data_1=df_1['lpep_pickup_datetime'].values/(10**9) # convert to second\n",
    "        training_data_1=training_data_1/600 # convert to 10 minute\n",
    "        training_data_1=training_data_1-origin\n",
    "        training_data_1=np.unique(training_data_1)\n",
    "        training_data.append(training_data_1)\n",
    "    return training_data"
   ]
  },
  {
   "cell_type": "code",
   "execution_count": 610,
   "metadata": {},
   "outputs": [],
   "source": [
    "training=training_data_extraction(30)"
   ]
  },
  {
   "cell_type": "code",
   "execution_count": 611,
   "metadata": {},
   "outputs": [
    {
     "data": {
      "text/plain": [
       "368.26666666666665"
      ]
     },
     "execution_count": 611,
     "metadata": {},
     "output_type": "execute_result"
    }
   ],
   "source": [
    "np.average([len(training[i]) for i in range(30)])"
   ]
  },
  {
   "cell_type": "code",
   "execution_count": 612,
   "metadata": {},
   "outputs": [],
   "source": [
    "samples=[]\n",
    "for i in range(5,10):\n",
    "    sample=elliptical_sampling(np.zeros(len(xi)),cov_p_u,logL,training[i],300)\n",
    "    samples.append(sample)"
   ]
  },
  {
   "cell_type": "code",
   "execution_count": 613,
   "metadata": {},
   "outputs": [],
   "source": [
    "y=[]\n",
    "for j in range(len(samples)):\n",
    "    yy=[]\n",
    "    for i in range(100):\n",
    "        xxx,yyy=GP_predict(xi,samples[j][-1-i],theta0,theta1,0,T,100)\n",
    "        yy.append(yyy)\n",
    "    yy=np.exp(np.average(np.array(yy),axis=0))\n",
    "    y.append(yy)"
   ]
  },
  {
   "cell_type": "code",
   "execution_count": 614,
   "metadata": {},
   "outputs": [],
   "source": [
    "y_ave=np.average(y,axis=0)"
   ]
  },
  {
   "cell_type": "code",
   "execution_count": 615,
   "metadata": {},
   "outputs": [
    {
     "data": {
      "text/plain": [
       "344.33353159361656"
      ]
     },
     "execution_count": 615,
     "metadata": {},
     "output_type": "execute_result"
    }
   ],
   "source": [
    "sum(y_ave*(T/len(y_ave)))"
   ]
  },
  {
   "cell_type": "code",
   "execution_count": 616,
   "metadata": {},
   "outputs": [
    {
     "data": {
      "image/png": "[encoded data removed]",
      "text/plain": [
       "<Figure size 432x288 with 1 Axes>"
      ]
     },
     "metadata": {
      "needs_background": "light"
     },
     "output_type": "display_data"
    }
   ],
   "source": [
    "plt.figure(1)                # the first figure\n",
    "plt.subplot(111)             # the first subplot in the first figure\n",
    "plt.plot([0,T],[0,0],'r-',lw=1,alpha=0.6)\n",
    "# plt.plot(training[0],np.zeros(len(training[0])),linestyle='None', marker='|', color='g', markersize=10)\n",
    "plt.plot(xxx,y_ave,label='learned result')\n",
    "plt.legend()\n",
    "plt.show()"
   ]
  },
  {
   "cell_type": "code",
   "execution_count": 617,
   "metadata": {},
   "outputs": [
    {
     "data": {
      "text/plain": [
       "array([1.410974  , 1.45928756, 1.51238729, 1.57048711, 1.63334792,\n",
       "       1.69999599, 1.76853657, 1.83617822, 1.89955111, 1.95530993,\n",
       "       2.00087884, 2.03508884, 2.05845647, 2.07298682, 2.08158484,\n",
       "       2.08731097, 2.09273951, 2.09958374, 2.10861252, 2.11977479,\n",
       "       2.13240694, 2.14542078, 2.15742492, 2.16678378, 2.17165326,\n",
       "       2.17005683, 2.16007941, 2.14023394, 2.10997279, 2.07019632,\n",
       "       2.02352978, 1.97417937, 1.92734147, 1.88833117, 1.86169375,\n",
       "       1.85052068, 1.85607366, 1.87772309, 1.9131756 , 1.95896524,\n",
       "       2.011152  , 2.06608999, 2.12104749, 2.17446971, 2.22580762,\n",
       "       2.27503244, 2.32210009, 2.36664672, 2.40808203, 2.44605628,\n",
       "       2.48108878, 2.51504424, 2.55118792, 2.59372474, 2.64693609,\n",
       "       2.7141621 , 2.79690022, 2.89424472, 3.00282692, 3.11732915,\n",
       "       3.23149633, 3.33936467, 3.4362714 , 3.51924637, 3.58665412,\n",
       "       3.63732462, 3.66967014, 3.68129651, 3.66938035, 3.63170636,\n",
       "       3.56790221, 3.48025571, 3.37366385, 3.25468487, 3.13009763,\n",
       "       3.00556538, 2.88488198, 2.76997578, 2.66154101, 2.55996891,\n",
       "       2.46619057, 2.38211836, 2.31055402, 2.254644  , 2.21710561,\n",
       "       2.19946434, 2.20146689, 2.22075096, 2.25282008, 2.2913737 ,\n",
       "       2.32901768, 2.35828257, 2.37273729, 2.36789922, 2.34169252,\n",
       "       2.29438455, 2.22812792, 2.14633728, 2.05310131, 1.95272594])"
      ]
     },
     "execution_count": 617,
     "metadata": {},
     "output_type": "execute_result"
    }
   ],
   "source": [
    "y_ave"
   ]
  },
  {
   "cell_type": "markdown",
   "metadata": {},
   "source": [
    "## 1 training sequence"
   ]
  },
  {
   "cell_type": "code",
   "execution_count": 495,
   "metadata": {},
   "outputs": [],
   "source": [
    "logL_test=[]\n",
    "for i in range(5):\n",
    "    logL_test.append(loglikelihood(y_ave,training[i],T))"
   ]
  },
  {
   "cell_type": "code",
   "execution_count": 496,
   "metadata": {},
   "outputs": [
    {
     "data": {
      "text/plain": [
       "16.92176401778272"
      ]
     },
     "execution_count": 496,
     "metadata": {},
     "output_type": "execute_result"
    }
   ],
   "source": [
    "np.average(logL_test)"
   ]
  },
  {
   "cell_type": "markdown",
   "metadata": {},
   "source": [
    "## 5 training sequence"
   ]
  },
  {
   "cell_type": "code",
   "execution_count": 502,
   "metadata": {},
   "outputs": [],
   "source": [
    "logL_test=[]\n",
    "for i in range(5):\n",
    "    logL_test.append(loglikelihood(y_ave,training[i],T))"
   ]
  },
  {
   "cell_type": "code",
   "execution_count": 503,
   "metadata": {},
   "outputs": [
    {
     "data": {
      "text/plain": [
       "13.261230915452085"
      ]
     },
     "execution_count": 503,
     "metadata": {},
     "output_type": "execute_result"
    }
   ],
   "source": [
    "np.average(logL_test)"
   ]
  },
  {
   "cell_type": "markdown",
   "metadata": {},
   "source": [
    "## 10 training sequence"
   ]
  },
  {
   "cell_type": "code",
   "execution_count": 509,
   "metadata": {},
   "outputs": [],
   "source": [
    "logL_test=[]\n",
    "for i in range(5):\n",
    "    logL_test.append(loglikelihood(y_ave,training[i],T))"
   ]
  },
  {
   "cell_type": "code",
   "execution_count": 510,
   "metadata": {},
   "outputs": [
    {
     "data": {
      "text/plain": [
       "17.535336500660197"
      ]
     },
     "execution_count": 510,
     "metadata": {},
     "output_type": "execute_result"
    }
   ],
   "source": [
    "np.average(logL_test)"
   ]
  },
  {
   "cell_type": "markdown",
   "metadata": {},
   "source": [
    "## 15 training sequence"
   ]
  },
  {
   "cell_type": "code",
   "execution_count": 516,
   "metadata": {},
   "outputs": [],
   "source": [
    "logL_test=[]\n",
    "for i in range(5):\n",
    "    logL_test.append(loglikelihood(y_ave,training[i],T))"
   ]
  },
  {
   "cell_type": "code",
   "execution_count": 517,
   "metadata": {},
   "outputs": [
    {
     "data": {
      "text/plain": [
       "15.099386985848549"
      ]
     },
     "execution_count": 517,
     "metadata": {},
     "output_type": "execute_result"
    }
   ],
   "source": [
    "np.average(logL_test)"
   ]
  },
  {
   "cell_type": "markdown",
   "metadata": {},
   "source": [
    "## 20 training sequence"
   ]
  },
  {
   "cell_type": "code",
   "execution_count": 523,
   "metadata": {},
   "outputs": [],
   "source": [
    "logL_test=[]\n",
    "for i in range(5):\n",
    "    logL_test.append(loglikelihood(y_ave,training[i],T))"
   ]
  },
  {
   "cell_type": "code",
   "execution_count": 524,
   "metadata": {},
   "outputs": [
    {
     "data": {
      "text/plain": [
       "14.12449126239908"
      ]
     },
     "execution_count": 524,
     "metadata": {},
     "output_type": "execute_result"
    }
   ],
   "source": [
    "np.average(logL_test)"
   ]
  },
  {
   "cell_type": "code",
   "execution_count": null,
   "metadata": {},
   "outputs": [],
   "source": []
  }
 ],
 "metadata": {
  "kernelspec": {
   "display_name": "Python 3",
   "language": "python",
   "name": "python3"
  },
  "language_info": {
   "codemirror_mode": {
    "name": "ipython",
    "version": 3
   },
   "file_extension": ".py",
   "mimetype": "text/x-python",
   "name": "python",
   "nbconvert_exporter": "python",
   "pygments_lexer": "ipython3",
   "version": "3.6.7"
  }
 },
 "nbformat": 4,
 "nbformat_minor": 2
}
